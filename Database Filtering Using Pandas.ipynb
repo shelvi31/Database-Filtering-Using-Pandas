{
 "cells": [
  {
   "cell_type": "markdown",
   "id": "professional-concrete",
   "metadata": {},
   "source": [
    "### loc: Label  ,  iloc: Position \n",
    "    \n"
   ]
  },
  {
   "cell_type": "code",
   "execution_count": 52,
   "id": "upper-modem",
   "metadata": {},
   "outputs": [
    {
     "data": {
      "text/html": [
       "<div>\n",
       "<style scoped>\n",
       "    .dataframe tbody tr th:only-of-type {\n",
       "        vertical-align: middle;\n",
       "    }\n",
       "\n",
       "    .dataframe tbody tr th {\n",
       "        vertical-align: top;\n",
       "    }\n",
       "\n",
       "    .dataframe thead th {\n",
       "        text-align: right;\n",
       "    }\n",
       "</style>\n",
       "<table border=\"1\" class=\"dataframe\">\n",
       "  <thead>\n",
       "    <tr style=\"text-align: right;\">\n",
       "      <th></th>\n",
       "      <th>name</th>\n",
       "      <th>lastname</th>\n",
       "      <th>div</th>\n",
       "      <th>salary</th>\n",
       "      <th>tele</th>\n",
       "      <th>contract</th>\n",
       "    </tr>\n",
       "  </thead>\n",
       "  <tbody>\n",
       "    <tr>\n",
       "      <th>128</th>\n",
       "      <td>Patrick</td>\n",
       "      <td>Miller</td>\n",
       "      <td>Sales</td>\n",
       "      <td>30000</td>\n",
       "      <td>7366578</td>\n",
       "      <td>permanent</td>\n",
       "    </tr>\n",
       "    <tr>\n",
       "      <th>478</th>\n",
       "      <td>Amanda</td>\n",
       "      <td>Torres</td>\n",
       "      <td>IT</td>\n",
       "      <td>54000</td>\n",
       "      <td>7366444</td>\n",
       "      <td>temporary</td>\n",
       "    </tr>\n",
       "    <tr>\n",
       "      <th>257</th>\n",
       "      <td>Antonella</td>\n",
       "      <td>Brown</td>\n",
       "      <td>IT</td>\n",
       "      <td>80000</td>\n",
       "      <td>7366120</td>\n",
       "      <td>temporary</td>\n",
       "    </tr>\n",
       "  </tbody>\n",
       "</table>\n",
       "</div>"
      ],
      "text/plain": [
       "          name lastname    div  salary     tele   contract\n",
       "128    Patrick   Miller  Sales   30000  7366578  permanent\n",
       "478     Amanda   Torres     IT   54000  7366444  temporary\n",
       "257  Antonella    Brown     IT   80000  7366120  temporary"
      ]
     },
     "execution_count": 52,
     "metadata": {},
     "output_type": "execute_result"
    }
   ],
   "source": [
    "import pandas as pd\n",
    "\n",
    "# information about employees\n",
    "id_number = ['128', '478', '257', '299', '175', '328', '099', '457', '144', '222']\n",
    "name = ['Patrick', 'Amanda', 'Antonella', 'Eduard', 'John', 'Alejandra', 'Layton', 'Melanie', 'David', 'Lewis']\n",
    "surname = ['Miller', 'Torres', 'Brown', 'Iglesias', 'Wright', 'Campos', 'Platt', 'Cavill', 'Lange', 'Bellow']\n",
    "division = ['Sales', 'IT', 'IT', 'Sales', 'Marketing', 'Engineering', 'Engineering', 'Sales', 'Engineering', 'Sales']\n",
    "salary = [30000, 54000, 80000, 79000, 15000, 18000, 30000, 35000, 45000, 30500]\n",
    "telephone = ['7366578', '7366444', '7366120', '7366574', '7366113', '7366117', '7366777', '7366579', '7366441', '7366440']\n",
    "type_contract = ['permanent', 'temporary', 'temporary', 'permanent', 'internship', 'internship', 'permanent', 'temporary', 'permanent', 'permanent']\n",
    "\n",
    "# data frame containing information about employees\n",
    "df = pd.DataFrame({'name': name, 'lastname': surname, 'div': division,\n",
    "                             'salary': salary, 'tele': telephone, 'contract': type_contract}, index=id_number)\n",
    "\n",
    "df.head(3)\n"
   ]
  },
  {
   "cell_type": "markdown",
   "id": "entire-paste",
   "metadata": {},
   "source": [
    "#### Selecting multiple columns by label:"
   ]
  },
  {
   "cell_type": "code",
   "execution_count": 53,
   "id": "accredited-freight",
   "metadata": {},
   "outputs": [],
   "source": [
    "df_employees = df"
   ]
  },
  {
   "cell_type": "code",
   "execution_count": 8,
   "id": "silver-dream",
   "metadata": {},
   "outputs": [
    {
     "data": {
      "text/html": [
       "<div>\n",
       "<style scoped>\n",
       "    .dataframe tbody tr th:only-of-type {\n",
       "        vertical-align: middle;\n",
       "    }\n",
       "\n",
       "    .dataframe tbody tr th {\n",
       "        vertical-align: top;\n",
       "    }\n",
       "\n",
       "    .dataframe thead th {\n",
       "        text-align: right;\n",
       "    }\n",
       "</style>\n",
       "<table border=\"1\" class=\"dataframe\">\n",
       "  <thead>\n",
       "    <tr style=\"text-align: right;\">\n",
       "      <th></th>\n",
       "      <th>lastname</th>\n",
       "      <th>div</th>\n",
       "    </tr>\n",
       "  </thead>\n",
       "  <tbody>\n",
       "    <tr>\n",
       "      <th>128</th>\n",
       "      <td>Miller</td>\n",
       "      <td>Sales</td>\n",
       "    </tr>\n",
       "    <tr>\n",
       "      <th>478</th>\n",
       "      <td>Torres</td>\n",
       "      <td>IT</td>\n",
       "    </tr>\n",
       "    <tr>\n",
       "      <th>257</th>\n",
       "      <td>Brown</td>\n",
       "      <td>IT</td>\n",
       "    </tr>\n",
       "  </tbody>\n",
       "</table>\n",
       "</div>"
      ],
      "text/plain": [
       "    lastname    div\n",
       "128   Miller  Sales\n",
       "478   Torres     IT\n",
       "257    Brown     IT"
      ]
     },
     "execution_count": 8,
     "metadata": {},
     "output_type": "execute_result"
    }
   ],
   "source": [
    "df[[\"lastname\",\"div\"]].head(3)"
   ]
  },
  {
   "cell_type": "code",
   "execution_count": 10,
   "id": "conditional-enlargement",
   "metadata": {},
   "outputs": [
    {
     "name": "stdout",
     "output_type": "stream",
     "text": [
      "<class 'pandas.core.frame.DataFrame'>\n",
      "Index: 10 entries, 128 to 222\n",
      "Data columns (total 6 columns):\n",
      " #   Column    Non-Null Count  Dtype \n",
      "---  ------    --------------  ----- \n",
      " 0   name      10 non-null     object\n",
      " 1   lastname  10 non-null     object\n",
      " 2   div       10 non-null     object\n",
      " 3   salary    10 non-null     int64 \n",
      " 4   tele      10 non-null     object\n",
      " 5   contract  10 non-null     object\n",
      "dtypes: int64(1), object(5)\n",
      "memory usage: 560.0+ bytes\n"
     ]
    }
   ],
   "source": [
    "df.info()"
   ]
  },
  {
   "cell_type": "markdown",
   "id": "antique-camcorder",
   "metadata": {},
   "source": [
    "#### Selecting columns by data type"
   ]
  },
  {
   "cell_type": "code",
   "execution_count": 16,
   "id": "lovely-proposition",
   "metadata": {},
   "outputs": [
    {
     "data": {
      "text/html": [
       "<div>\n",
       "<style scoped>\n",
       "    .dataframe tbody tr th:only-of-type {\n",
       "        vertical-align: middle;\n",
       "    }\n",
       "\n",
       "    .dataframe tbody tr th {\n",
       "        vertical-align: top;\n",
       "    }\n",
       "\n",
       "    .dataframe thead th {\n",
       "        text-align: right;\n",
       "    }\n",
       "</style>\n",
       "<table border=\"1\" class=\"dataframe\">\n",
       "  <thead>\n",
       "    <tr style=\"text-align: right;\">\n",
       "      <th></th>\n",
       "    </tr>\n",
       "  </thead>\n",
       "  <tbody>\n",
       "    <tr>\n",
       "      <th>128</th>\n",
       "    </tr>\n",
       "    <tr>\n",
       "      <th>478</th>\n",
       "    </tr>\n",
       "  </tbody>\n",
       "</table>\n",
       "</div>"
      ],
      "text/plain": [
       "Empty DataFrame\n",
       "Columns: []\n",
       "Index: [128, 478]"
      ]
     },
     "execution_count": 16,
     "metadata": {},
     "output_type": "execute_result"
    }
   ],
   "source": [
    "df.select_dtypes(include=int).head(2)   #Doent print even salary, same results for float!"
   ]
  },
  {
   "cell_type": "code",
   "execution_count": 18,
   "id": "nutritional-geography",
   "metadata": {},
   "outputs": [
    {
     "data": {
      "text/html": [
       "<div>\n",
       "<style scoped>\n",
       "    .dataframe tbody tr th:only-of-type {\n",
       "        vertical-align: middle;\n",
       "    }\n",
       "\n",
       "    .dataframe tbody tr th {\n",
       "        vertical-align: top;\n",
       "    }\n",
       "\n",
       "    .dataframe thead th {\n",
       "        text-align: right;\n",
       "    }\n",
       "</style>\n",
       "<table border=\"1\" class=\"dataframe\">\n",
       "  <thead>\n",
       "    <tr style=\"text-align: right;\">\n",
       "      <th></th>\n",
       "      <th>name</th>\n",
       "      <th>lastname</th>\n",
       "      <th>div</th>\n",
       "      <th>tele</th>\n",
       "      <th>contract</th>\n",
       "    </tr>\n",
       "  </thead>\n",
       "  <tbody>\n",
       "    <tr>\n",
       "      <th>128</th>\n",
       "      <td>Patrick</td>\n",
       "      <td>Miller</td>\n",
       "      <td>Sales</td>\n",
       "      <td>7366578</td>\n",
       "      <td>permanent</td>\n",
       "    </tr>\n",
       "    <tr>\n",
       "      <th>478</th>\n",
       "      <td>Amanda</td>\n",
       "      <td>Torres</td>\n",
       "      <td>IT</td>\n",
       "      <td>7366444</td>\n",
       "      <td>temporary</td>\n",
       "    </tr>\n",
       "  </tbody>\n",
       "</table>\n",
       "</div>"
      ],
      "text/plain": [
       "        name lastname    div     tele   contract\n",
       "128  Patrick   Miller  Sales  7366578  permanent\n",
       "478   Amanda   Torres     IT  7366444  temporary"
      ]
     },
     "execution_count": 18,
     "metadata": {},
     "output_type": "execute_result"
    }
   ],
   "source": [
    "df.select_dtypes(include=object).head(2)  "
   ]
  },
  {
   "cell_type": "code",
   "execution_count": 15,
   "id": "amended-correlation",
   "metadata": {},
   "outputs": [
    {
     "data": {
      "text/html": [
       "<div>\n",
       "<style scoped>\n",
       "    .dataframe tbody tr th:only-of-type {\n",
       "        vertical-align: middle;\n",
       "    }\n",
       "\n",
       "    .dataframe tbody tr th {\n",
       "        vertical-align: top;\n",
       "    }\n",
       "\n",
       "    .dataframe thead th {\n",
       "        text-align: right;\n",
       "    }\n",
       "</style>\n",
       "<table border=\"1\" class=\"dataframe\">\n",
       "  <thead>\n",
       "    <tr style=\"text-align: right;\">\n",
       "      <th></th>\n",
       "      <th>salary</th>\n",
       "    </tr>\n",
       "  </thead>\n",
       "  <tbody>\n",
       "    <tr>\n",
       "      <th>128</th>\n",
       "      <td>30000</td>\n",
       "    </tr>\n",
       "    <tr>\n",
       "      <th>478</th>\n",
       "      <td>54000</td>\n",
       "    </tr>\n",
       "    <tr>\n",
       "      <th>257</th>\n",
       "      <td>80000</td>\n",
       "    </tr>\n",
       "  </tbody>\n",
       "</table>\n",
       "</div>"
      ],
      "text/plain": [
       "     salary\n",
       "128   30000\n",
       "478   54000\n",
       "257   80000"
      ]
     },
     "execution_count": 15,
     "metadata": {},
     "output_type": "execute_result"
    }
   ],
   "source": [
    "import numpy as np\n",
    "\n",
    "df.select_dtypes(include = np.number).head(3)    "
   ]
  },
  {
   "cell_type": "code",
   "execution_count": 20,
   "id": "eligible-stuff",
   "metadata": {},
   "outputs": [
    {
     "data": {
      "text/html": [
       "<div>\n",
       "<style scoped>\n",
       "    .dataframe tbody tr th:only-of-type {\n",
       "        vertical-align: middle;\n",
       "    }\n",
       "\n",
       "    .dataframe tbody tr th {\n",
       "        vertical-align: top;\n",
       "    }\n",
       "\n",
       "    .dataframe thead th {\n",
       "        text-align: right;\n",
       "    }\n",
       "</style>\n",
       "<table border=\"1\" class=\"dataframe\">\n",
       "  <thead>\n",
       "    <tr style=\"text-align: right;\">\n",
       "      <th></th>\n",
       "      <th>name</th>\n",
       "      <th>lastname</th>\n",
       "      <th>div</th>\n",
       "      <th>tele</th>\n",
       "      <th>contract</th>\n",
       "    </tr>\n",
       "  </thead>\n",
       "  <tbody>\n",
       "    <tr>\n",
       "      <th>128</th>\n",
       "      <td>Patrick</td>\n",
       "      <td>Miller</td>\n",
       "      <td>Sales</td>\n",
       "      <td>7366578</td>\n",
       "      <td>permanent</td>\n",
       "    </tr>\n",
       "    <tr>\n",
       "      <th>478</th>\n",
       "      <td>Amanda</td>\n",
       "      <td>Torres</td>\n",
       "      <td>IT</td>\n",
       "      <td>7366444</td>\n",
       "      <td>temporary</td>\n",
       "    </tr>\n",
       "    <tr>\n",
       "      <th>257</th>\n",
       "      <td>Antonella</td>\n",
       "      <td>Brown</td>\n",
       "      <td>IT</td>\n",
       "      <td>7366120</td>\n",
       "      <td>temporary</td>\n",
       "    </tr>\n",
       "  </tbody>\n",
       "</table>\n",
       "</div>"
      ],
      "text/plain": [
       "          name lastname    div     tele   contract\n",
       "128    Patrick   Miller  Sales  7366578  permanent\n",
       "478     Amanda   Torres     IT  7366444  temporary\n",
       "257  Antonella    Brown     IT  7366120  temporary"
      ]
     },
     "execution_count": 20,
     "metadata": {},
     "output_type": "execute_result"
    }
   ],
   "source": [
    "df.select_dtypes(include = np.object).head(3)    "
   ]
  },
  {
   "cell_type": "markdown",
   "id": "ordinary-mumbai",
   "metadata": {},
   "source": [
    "#### Selecting a single row by label"
   ]
  },
  {
   "cell_type": "code",
   "execution_count": 21,
   "id": "inner-drink",
   "metadata": {},
   "outputs": [
    {
     "data": {
      "text/plain": [
       "Index(['128', '478', '257', '299', '175', '328', '099', '457', '144', '222'], dtype='object')"
      ]
     },
     "execution_count": 21,
     "metadata": {},
     "output_type": "execute_result"
    }
   ],
   "source": [
    "df.index"
   ]
  },
  {
   "cell_type": "code",
   "execution_count": 23,
   "id": "intimate-trial",
   "metadata": {},
   "outputs": [
    {
     "data": {
      "text/plain": [
       "name          Patrick\n",
       "lastname       Miller\n",
       "div             Sales\n",
       "salary          30000\n",
       "tele          7366578\n",
       "contract    permanent\n",
       "Name: 128, dtype: object"
      ]
     },
     "execution_count": 23,
     "metadata": {},
     "output_type": "execute_result"
    }
   ],
   "source": [
    "#selection by loc using no. in index \n",
    "\n",
    "df.loc[\"128\"]    "
   ]
  },
  {
   "cell_type": "code",
   "execution_count": 30,
   "id": "urban-glory",
   "metadata": {},
   "outputs": [
    {
     "data": {
      "text/html": [
       "<div>\n",
       "<style scoped>\n",
       "    .dataframe tbody tr th:only-of-type {\n",
       "        vertical-align: middle;\n",
       "    }\n",
       "\n",
       "    .dataframe tbody tr th {\n",
       "        vertical-align: top;\n",
       "    }\n",
       "\n",
       "    .dataframe thead th {\n",
       "        text-align: right;\n",
       "    }\n",
       "</style>\n",
       "<table border=\"1\" class=\"dataframe\">\n",
       "  <thead>\n",
       "    <tr style=\"text-align: right;\">\n",
       "      <th></th>\n",
       "      <th>name</th>\n",
       "      <th>lastname</th>\n",
       "      <th>div</th>\n",
       "      <th>salary</th>\n",
       "      <th>tele</th>\n",
       "      <th>contract</th>\n",
       "    </tr>\n",
       "  </thead>\n",
       "  <tbody>\n",
       "    <tr>\n",
       "      <th>128</th>\n",
       "      <td>Patrick</td>\n",
       "      <td>Miller</td>\n",
       "      <td>Sales</td>\n",
       "      <td>30000</td>\n",
       "      <td>7366578</td>\n",
       "      <td>permanent</td>\n",
       "    </tr>\n",
       "  </tbody>\n",
       "</table>\n",
       "</div>"
      ],
      "text/plain": [
       "        name lastname    div  salary     tele   contract\n",
       "128  Patrick   Miller  Sales   30000  7366578  permanent"
      ]
     },
     "execution_count": 30,
     "metadata": {},
     "output_type": "execute_result"
    }
   ],
   "source": [
    "df.loc[[\"128\"]]    "
   ]
  },
  {
   "cell_type": "code",
   "execution_count": 25,
   "id": "confident-update",
   "metadata": {},
   "outputs": [
    {
     "data": {
      "text/html": [
       "<div>\n",
       "<style scoped>\n",
       "    .dataframe tbody tr th:only-of-type {\n",
       "        vertical-align: middle;\n",
       "    }\n",
       "\n",
       "    .dataframe tbody tr th {\n",
       "        vertical-align: top;\n",
       "    }\n",
       "\n",
       "    .dataframe thead th {\n",
       "        text-align: right;\n",
       "    }\n",
       "</style>\n",
       "<table border=\"1\" class=\"dataframe\">\n",
       "  <thead>\n",
       "    <tr style=\"text-align: right;\">\n",
       "      <th></th>\n",
       "      <th>name</th>\n",
       "      <th>lastname</th>\n",
       "      <th>div</th>\n",
       "      <th>salary</th>\n",
       "      <th>tele</th>\n",
       "      <th>contract</th>\n",
       "    </tr>\n",
       "  </thead>\n",
       "  <tbody>\n",
       "    <tr>\n",
       "      <th>128</th>\n",
       "      <td>Patrick</td>\n",
       "      <td>Miller</td>\n",
       "      <td>Sales</td>\n",
       "      <td>30000</td>\n",
       "      <td>7366578</td>\n",
       "      <td>permanent</td>\n",
       "    </tr>\n",
       "    <tr>\n",
       "      <th>478</th>\n",
       "      <td>Amanda</td>\n",
       "      <td>Torres</td>\n",
       "      <td>IT</td>\n",
       "      <td>54000</td>\n",
       "      <td>7366444</td>\n",
       "      <td>temporary</td>\n",
       "    </tr>\n",
       "  </tbody>\n",
       "</table>\n",
       "</div>"
      ],
      "text/plain": [
       "        name lastname    div  salary     tele   contract\n",
       "128  Patrick   Miller  Sales   30000  7366578  permanent\n",
       "478   Amanda   Torres     IT   54000  7366444  temporary"
      ]
     },
     "execution_count": 25,
     "metadata": {},
     "output_type": "execute_result"
    }
   ],
   "source": [
    "df.loc[[\"128\",\"478\"]]"
   ]
  },
  {
   "cell_type": "markdown",
   "id": "finite-beginning",
   "metadata": {},
   "source": [
    "#### Selecting a single row by position"
   ]
  },
  {
   "cell_type": "markdown",
   "id": "annoying-contributor",
   "metadata": {},
   "source": [
    "The .iloc[] indexer is used to index a data frame by position. To select a single row with the .iloc[] attribute, we pass in the row position (a single integer) to the indexer."
   ]
  },
  {
   "cell_type": "code",
   "execution_count": 27,
   "id": "preliminary-brass",
   "metadata": {},
   "outputs": [
    {
     "data": {
      "text/plain": [
       "name            Lewis\n",
       "lastname       Bellow\n",
       "div             Sales\n",
       "salary          30500\n",
       "tele          7366440\n",
       "contract    permanent\n",
       "Name: 222, dtype: object"
      ]
     },
     "execution_count": 27,
     "metadata": {},
     "output_type": "execute_result"
    }
   ],
   "source": [
    "df.iloc[-1]     #last element"
   ]
  },
  {
   "cell_type": "markdown",
   "id": "intended-animation",
   "metadata": {},
   "source": [
    ".iloc[] indexer returns a Series object that has the column names as indexes. However, as we did with the .iloc[] indexer, we can also obtain a DataFrame by passing a single-integer list to the indexer in the following way."
   ]
  },
  {
   "cell_type": "code",
   "execution_count": 29,
   "id": "violent-looking",
   "metadata": {},
   "outputs": [
    {
     "data": {
      "text/html": [
       "<div>\n",
       "<style scoped>\n",
       "    .dataframe tbody tr th:only-of-type {\n",
       "        vertical-align: middle;\n",
       "    }\n",
       "\n",
       "    .dataframe tbody tr th {\n",
       "        vertical-align: top;\n",
       "    }\n",
       "\n",
       "    .dataframe thead th {\n",
       "        text-align: right;\n",
       "    }\n",
       "</style>\n",
       "<table border=\"1\" class=\"dataframe\">\n",
       "  <thead>\n",
       "    <tr style=\"text-align: right;\">\n",
       "      <th></th>\n",
       "      <th>name</th>\n",
       "      <th>lastname</th>\n",
       "      <th>div</th>\n",
       "      <th>salary</th>\n",
       "      <th>tele</th>\n",
       "      <th>contract</th>\n",
       "    </tr>\n",
       "  </thead>\n",
       "  <tbody>\n",
       "    <tr>\n",
       "      <th>222</th>\n",
       "      <td>Lewis</td>\n",
       "      <td>Bellow</td>\n",
       "      <td>Sales</td>\n",
       "      <td>30500</td>\n",
       "      <td>7366440</td>\n",
       "      <td>permanent</td>\n",
       "    </tr>\n",
       "  </tbody>\n",
       "</table>\n",
       "</div>"
      ],
      "text/plain": [
       "      name lastname    div  salary     tele   contract\n",
       "222  Lewis   Bellow  Sales   30500  7366440  permanent"
      ]
     },
     "execution_count": 29,
     "metadata": {},
     "output_type": "execute_result"
    }
   ],
   "source": [
    "df.iloc[[-1]]   #notie difference in output"
   ]
  },
  {
   "cell_type": "code",
   "execution_count": 32,
   "id": "attached-portugal",
   "metadata": {},
   "outputs": [
    {
     "data": {
      "text/html": [
       "<div>\n",
       "<style scoped>\n",
       "    .dataframe tbody tr th:only-of-type {\n",
       "        vertical-align: middle;\n",
       "    }\n",
       "\n",
       "    .dataframe tbody tr th {\n",
       "        vertical-align: top;\n",
       "    }\n",
       "\n",
       "    .dataframe thead th {\n",
       "        text-align: right;\n",
       "    }\n",
       "</style>\n",
       "<table border=\"1\" class=\"dataframe\">\n",
       "  <thead>\n",
       "    <tr style=\"text-align: right;\">\n",
       "      <th></th>\n",
       "      <th>name</th>\n",
       "      <th>lastname</th>\n",
       "      <th>div</th>\n",
       "      <th>salary</th>\n",
       "      <th>tele</th>\n",
       "      <th>contract</th>\n",
       "    </tr>\n",
       "  </thead>\n",
       "  <tbody>\n",
       "    <tr>\n",
       "      <th>222</th>\n",
       "      <td>Lewis</td>\n",
       "      <td>Bellow</td>\n",
       "      <td>Sales</td>\n",
       "      <td>30500</td>\n",
       "      <td>7366440</td>\n",
       "      <td>permanent</td>\n",
       "    </tr>\n",
       "    <tr>\n",
       "      <th>144</th>\n",
       "      <td>David</td>\n",
       "      <td>Lange</td>\n",
       "      <td>Engineering</td>\n",
       "      <td>45000</td>\n",
       "      <td>7366441</td>\n",
       "      <td>permanent</td>\n",
       "    </tr>\n",
       "    <tr>\n",
       "      <th>128</th>\n",
       "      <td>Patrick</td>\n",
       "      <td>Miller</td>\n",
       "      <td>Sales</td>\n",
       "      <td>30000</td>\n",
       "      <td>7366578</td>\n",
       "      <td>permanent</td>\n",
       "    </tr>\n",
       "  </tbody>\n",
       "</table>\n",
       "</div>"
      ],
      "text/plain": [
       "        name lastname          div  salary     tele   contract\n",
       "222    Lewis   Bellow        Sales   30500  7366440  permanent\n",
       "144    David    Lange  Engineering   45000  7366441  permanent\n",
       "128  Patrick   Miller        Sales   30000  7366578  permanent"
      ]
     },
     "execution_count": 32,
     "metadata": {},
     "output_type": "execute_result"
    }
   ],
   "source": [
    "df.iloc[[-1,-2,0]]"
   ]
  },
  {
   "cell_type": "markdown",
   "id": "modern-lexington",
   "metadata": {},
   "source": [
    "#### Slicing"
   ]
  },
  {
   "cell_type": "code",
   "execution_count": 33,
   "id": "reliable-siemens",
   "metadata": {},
   "outputs": [
    {
     "data": {
      "text/html": [
       "<div>\n",
       "<style scoped>\n",
       "    .dataframe tbody tr th:only-of-type {\n",
       "        vertical-align: middle;\n",
       "    }\n",
       "\n",
       "    .dataframe tbody tr th {\n",
       "        vertical-align: top;\n",
       "    }\n",
       "\n",
       "    .dataframe thead th {\n",
       "        text-align: right;\n",
       "    }\n",
       "</style>\n",
       "<table border=\"1\" class=\"dataframe\">\n",
       "  <thead>\n",
       "    <tr style=\"text-align: right;\">\n",
       "      <th></th>\n",
       "      <th>name</th>\n",
       "      <th>lastname</th>\n",
       "      <th>div</th>\n",
       "      <th>salary</th>\n",
       "      <th>tele</th>\n",
       "      <th>contract</th>\n",
       "    </tr>\n",
       "  </thead>\n",
       "  <tbody>\n",
       "    <tr>\n",
       "      <th>128</th>\n",
       "      <td>Patrick</td>\n",
       "      <td>Miller</td>\n",
       "      <td>Sales</td>\n",
       "      <td>30000</td>\n",
       "      <td>7366578</td>\n",
       "      <td>permanent</td>\n",
       "    </tr>\n",
       "    <tr>\n",
       "      <th>478</th>\n",
       "      <td>Amanda</td>\n",
       "      <td>Torres</td>\n",
       "      <td>IT</td>\n",
       "      <td>54000</td>\n",
       "      <td>7366444</td>\n",
       "      <td>temporary</td>\n",
       "    </tr>\n",
       "    <tr>\n",
       "      <th>257</th>\n",
       "      <td>Antonella</td>\n",
       "      <td>Brown</td>\n",
       "      <td>IT</td>\n",
       "      <td>80000</td>\n",
       "      <td>7366120</td>\n",
       "      <td>temporary</td>\n",
       "    </tr>\n",
       "    <tr>\n",
       "      <th>299</th>\n",
       "      <td>Eduard</td>\n",
       "      <td>Iglesias</td>\n",
       "      <td>Sales</td>\n",
       "      <td>79000</td>\n",
       "      <td>7366574</td>\n",
       "      <td>permanent</td>\n",
       "    </tr>\n",
       "  </tbody>\n",
       "</table>\n",
       "</div>"
      ],
      "text/plain": [
       "          name  lastname    div  salary     tele   contract\n",
       "128    Patrick    Miller  Sales   30000  7366578  permanent\n",
       "478     Amanda    Torres     IT   54000  7366444  temporary\n",
       "257  Antonella     Brown     IT   80000  7366120  temporary\n",
       "299     Eduard  Iglesias  Sales   79000  7366574  permanent"
      ]
     },
     "execution_count": 33,
     "metadata": {},
     "output_type": "execute_result"
    }
   ],
   "source": [
    "df.iloc[0:4]"
   ]
  },
  {
   "cell_type": "markdown",
   "id": "exempt-bacteria",
   "metadata": {},
   "source": [
    "#### Selecting rows and columns simultaneously"
   ]
  },
  {
   "cell_type": "code",
   "execution_count": 38,
   "id": "numeric-millennium",
   "metadata": {},
   "outputs": [
    {
     "data": {
      "text/plain": [
       "54000"
      ]
     },
     "execution_count": 38,
     "metadata": {},
     "output_type": "execute_result"
    }
   ],
   "source": [
    "df.loc['478', 'salary']     #Priniting salary corresponding to particular row/Index\n",
    "\n",
    "#Note: iloc gives error in this"
   ]
  },
  {
   "cell_type": "markdown",
   "id": "effective-norman",
   "metadata": {},
   "source": [
    "#### Selecting a single row and multiple columns"
   ]
  },
  {
   "cell_type": "code",
   "execution_count": 39,
   "id": "leading-victor",
   "metadata": {},
   "outputs": [
    {
     "data": {
      "text/plain": [
       "name       Amanda\n",
       "surname    Torres\n",
       "salary      54000\n",
       "Name: 478, dtype: object"
      ]
     },
     "execution_count": 39,
     "metadata": {},
     "output_type": "execute_result"
    }
   ],
   "source": [
    "df_employees.iloc[1, [0, 1, 3]]   #Selecting 1st,2nd and 4th columns for 2nd row "
   ]
  },
  {
   "cell_type": "markdown",
   "id": "geographic-petroleum",
   "metadata": {},
   "source": [
    "#### Selecting disjointed rows and columns"
   ]
  },
  {
   "cell_type": "markdown",
   "id": "understanding-belief",
   "metadata": {},
   "source": [
    "To select multiple rows and columns, we need to pass two list of values to both indexers"
   ]
  },
  {
   "cell_type": "code",
   "execution_count": 41,
   "id": "boolean-conflict",
   "metadata": {},
   "outputs": [
    {
     "data": {
      "text/html": [
       "<div>\n",
       "<style scoped>\n",
       "    .dataframe tbody tr th:only-of-type {\n",
       "        vertical-align: middle;\n",
       "    }\n",
       "\n",
       "    .dataframe tbody tr th {\n",
       "        vertical-align: top;\n",
       "    }\n",
       "\n",
       "    .dataframe thead th {\n",
       "        text-align: right;\n",
       "    }\n",
       "</style>\n",
       "<table border=\"1\" class=\"dataframe\">\n",
       "  <thead>\n",
       "    <tr style=\"text-align: right;\">\n",
       "      <th></th>\n",
       "      <th>name</th>\n",
       "      <th>surname</th>\n",
       "      <th>salary</th>\n",
       "    </tr>\n",
       "  </thead>\n",
       "  <tbody>\n",
       "    <tr>\n",
       "      <th>478</th>\n",
       "      <td>Amanda</td>\n",
       "      <td>Torres</td>\n",
       "      <td>54000</td>\n",
       "    </tr>\n",
       "    <tr>\n",
       "      <th>222</th>\n",
       "      <td>Lewis</td>\n",
       "      <td>Bellow</td>\n",
       "      <td>30500</td>\n",
       "    </tr>\n",
       "  </tbody>\n",
       "</table>\n",
       "</div>"
      ],
      "text/plain": [
       "       name surname  salary\n",
       "478  Amanda  Torres   54000\n",
       "222   Lewis  Bellow   30500"
      ]
     },
     "execution_count": 41,
     "metadata": {},
     "output_type": "execute_result"
    }
   ],
   "source": [
    "# select the name, surname, and salary of the employees with id number 478 and 222 by position\n",
    "df_employees.iloc[[1, 9], [0, 1, 3]]\n",
    "\n",
    "# select the name, surname, and salary of the employees with id number 478 and 222 by label\n",
    "df_employees.loc[['478', '222'], ['name', 'surname', 'salary']]"
   ]
  },
  {
   "cell_type": "markdown",
   "id": "cosmetic-memory",
   "metadata": {},
   "source": [
    "#### Selecting continuous rows and columns"
   ]
  },
  {
   "cell_type": "code",
   "execution_count": 42,
   "id": "confused-float",
   "metadata": {},
   "outputs": [
    {
     "data": {
      "text/html": [
       "<div>\n",
       "<style scoped>\n",
       "    .dataframe tbody tr th:only-of-type {\n",
       "        vertical-align: middle;\n",
       "    }\n",
       "\n",
       "    .dataframe tbody tr th {\n",
       "        vertical-align: top;\n",
       "    }\n",
       "\n",
       "    .dataframe thead th {\n",
       "        text-align: right;\n",
       "    }\n",
       "</style>\n",
       "<table border=\"1\" class=\"dataframe\">\n",
       "  <thead>\n",
       "    <tr style=\"text-align: right;\">\n",
       "      <th></th>\n",
       "      <th>name</th>\n",
       "      <th>surname</th>\n",
       "      <th>salary</th>\n",
       "    </tr>\n",
       "  </thead>\n",
       "  <tbody>\n",
       "    <tr>\n",
       "      <th>128</th>\n",
       "      <td>Patrick</td>\n",
       "      <td>Miller</td>\n",
       "      <td>30000</td>\n",
       "    </tr>\n",
       "    <tr>\n",
       "      <th>478</th>\n",
       "      <td>Amanda</td>\n",
       "      <td>Torres</td>\n",
       "      <td>54000</td>\n",
       "    </tr>\n",
       "    <tr>\n",
       "      <th>257</th>\n",
       "      <td>Antonella</td>\n",
       "      <td>Brown</td>\n",
       "      <td>80000</td>\n",
       "    </tr>\n",
       "    <tr>\n",
       "      <th>299</th>\n",
       "      <td>Eduard</td>\n",
       "      <td>Iglesias</td>\n",
       "      <td>79000</td>\n",
       "    </tr>\n",
       "  </tbody>\n",
       "</table>\n",
       "</div>"
      ],
      "text/plain": [
       "          name   surname  salary\n",
       "128    Patrick    Miller   30000\n",
       "478     Amanda    Torres   54000\n",
       "257  Antonella     Brown   80000\n",
       "299     Eduard  Iglesias   79000"
      ]
     },
     "execution_count": 42,
     "metadata": {},
     "output_type": "execute_result"
    }
   ],
   "source": [
    "# select the name, surname, and salary of the employees with id number 128, 478, 257, 299 by position\n",
    "df_employees.iloc[:4, [0, 1, 3]]\n",
    "\n",
    "# select the name, surname, and salary of the employees with id number 128, 478, 257, 299 by label\n",
    "df_employees.loc[:'299', ['name', 'surname', 'salary']]"
   ]
  },
  {
   "cell_type": "markdown",
   "id": "aerial-export",
   "metadata": {},
   "source": [
    "#### Selecting a scalar value using the .at[] and .iat[] indexers\n"
   ]
  },
  {
   "cell_type": "markdown",
   "id": "plain-digest",
   "metadata": {},
   "source": [
    "Pandas provides two optimized functions to extract a scalar value from a data frame object: the .at[] and .iat[] operators. The former extracts a single value by label, while the latter access a single value by position.\n",
    "Selecting a scalar value by label and position\n",
    "\n",
    "→ df.at[string, string]\n",
    "\n",
    "→ df.iat[integer, integer]"
   ]
  },
  {
   "cell_type": "code",
   "execution_count": 46,
   "id": "twenty-ceramic",
   "metadata": {},
   "outputs": [
    {
     "data": {
      "text/plain": [
       "54000"
      ]
     },
     "execution_count": 46,
     "metadata": {},
     "output_type": "execute_result"
    }
   ],
   "source": [
    "# select the salary of the employee with id number 478 by label\n",
    "df_employees.at['478', 'salary']\n"
   ]
  },
  {
   "cell_type": "code",
   "execution_count": 45,
   "id": "stable-extent",
   "metadata": {},
   "outputs": [
    {
     "data": {
      "text/plain": [
       "54000"
      ]
     },
     "execution_count": 45,
     "metadata": {},
     "output_type": "execute_result"
    }
   ],
   "source": [
    "\n",
    "# select the salary of the employee with id number 478 by position\n",
    "df_employees.iat[1, 3]"
   ]
  },
  {
   "cell_type": "markdown",
   "id": "complete-permit",
   "metadata": {},
   "source": [
    "#### %timeit magic function to calculate the execution time of both Python statements. \n",
    " \n",
    " As shown below, the .at[] and .iat[] operators are much faster than the .loc[] and .iloc[] indexers."
   ]
  },
  {
   "cell_type": "code",
   "execution_count": 48,
   "id": "saving-purpose",
   "metadata": {},
   "outputs": [
    {
     "name": "stdout",
     "output_type": "stream",
     "text": [
      "6.37 µs ± 300 ns per loop (mean ± std. dev. of 7 runs, 100000 loops each)\n"
     ]
    }
   ],
   "source": [
    "# execution time of the loc indexer\n",
    "%timeit df_employees.loc['478', 'salary']"
   ]
  },
  {
   "cell_type": "code",
   "execution_count": 49,
   "id": "lucky-mayor",
   "metadata": {},
   "outputs": [
    {
     "name": "stdout",
     "output_type": "stream",
     "text": [
      "3.43 µs ± 221 ns per loop (mean ± std. dev. of 7 runs, 100000 loops each)\n"
     ]
    }
   ],
   "source": [
    "# execution time of the at indexer\n",
    "%timeit df_employees.at['478', 'salary']"
   ]
  },
  {
   "cell_type": "markdown",
   "id": "scientific-vietnam",
   "metadata": {},
   "source": [
    "### that the .at[] and .iat[] indexers can only be used to access a single value"
   ]
  },
  {
   "cell_type": "markdown",
   "id": "eastern-citation",
   "metadata": {},
   "source": [
    "#### Boolean selection according to the values of a single column"
   ]
  },
  {
   "cell_type": "code",
   "execution_count": 50,
   "id": "opposed-extra",
   "metadata": {},
   "outputs": [
    {
     "data": {
      "text/html": [
       "<div>\n",
       "<style scoped>\n",
       "    .dataframe tbody tr th:only-of-type {\n",
       "        vertical-align: middle;\n",
       "    }\n",
       "\n",
       "    .dataframe tbody tr th {\n",
       "        vertical-align: top;\n",
       "    }\n",
       "\n",
       "    .dataframe thead th {\n",
       "        text-align: right;\n",
       "    }\n",
       "</style>\n",
       "<table border=\"1\" class=\"dataframe\">\n",
       "  <thead>\n",
       "    <tr style=\"text-align: right;\">\n",
       "      <th></th>\n",
       "      <th>name</th>\n",
       "      <th>surname</th>\n",
       "      <th>division</th>\n",
       "      <th>salary</th>\n",
       "      <th>telephone</th>\n",
       "      <th>type_contract</th>\n",
       "    </tr>\n",
       "  </thead>\n",
       "  <tbody>\n",
       "    <tr>\n",
       "      <th>478</th>\n",
       "      <td>Amanda</td>\n",
       "      <td>Torres</td>\n",
       "      <td>IT</td>\n",
       "      <td>54000</td>\n",
       "      <td>7366444</td>\n",
       "      <td>temporary</td>\n",
       "    </tr>\n",
       "    <tr>\n",
       "      <th>257</th>\n",
       "      <td>Antonella</td>\n",
       "      <td>Brown</td>\n",
       "      <td>IT</td>\n",
       "      <td>80000</td>\n",
       "      <td>7366120</td>\n",
       "      <td>temporary</td>\n",
       "    </tr>\n",
       "    <tr>\n",
       "      <th>299</th>\n",
       "      <td>Eduard</td>\n",
       "      <td>Iglesias</td>\n",
       "      <td>Sales</td>\n",
       "      <td>79000</td>\n",
       "      <td>7366574</td>\n",
       "      <td>permanent</td>\n",
       "    </tr>\n",
       "  </tbody>\n",
       "</table>\n",
       "</div>"
      ],
      "text/plain": [
       "          name   surname division  salary telephone type_contract\n",
       "478     Amanda    Torres       IT   54000   7366444     temporary\n",
       "257  Antonella     Brown       IT   80000   7366120     temporary\n",
       "299     Eduard  Iglesias    Sales   79000   7366574     permanent"
      ]
     },
     "execution_count": 50,
     "metadata": {},
     "output_type": "execute_result"
    }
   ],
   "source": [
    "df_employees[df_employees['salary'] > 45000]   #Printing all values falling in"
   ]
  },
  {
   "cell_type": "code",
   "execution_count": 57,
   "id": "ordinary-truth",
   "metadata": {},
   "outputs": [
    {
     "data": {
      "text/plain": [
       "128    False\n",
       "478     True\n",
       "257     True\n",
       "299     True\n",
       "175    False\n",
       "328    False\n",
       "099    False\n",
       "457    False\n",
       "144    False\n",
       "222    False\n",
       "Name: salary, dtype: bool"
      ]
     },
     "execution_count": 57,
     "metadata": {},
     "output_type": "execute_result"
    }
   ],
   "source": [
    "df_employees['salary'] > 45000   #Printing True false"
   ]
  },
  {
   "cell_type": "markdown",
   "id": "appropriate-continent",
   "metadata": {},
   "source": [
    "#### Boolean selection according to the values of multiple columns"
   ]
  },
  {
   "cell_type": "code",
   "execution_count": 59,
   "id": "neural-gates",
   "metadata": {},
   "outputs": [
    {
     "data": {
      "text/html": [
       "<div>\n",
       "<style scoped>\n",
       "    .dataframe tbody tr th:only-of-type {\n",
       "        vertical-align: middle;\n",
       "    }\n",
       "\n",
       "    .dataframe tbody tr th {\n",
       "        vertical-align: top;\n",
       "    }\n",
       "\n",
       "    .dataframe thead th {\n",
       "        text-align: right;\n",
       "    }\n",
       "</style>\n",
       "<table border=\"1\" class=\"dataframe\">\n",
       "  <thead>\n",
       "    <tr style=\"text-align: right;\">\n",
       "      <th></th>\n",
       "      <th>name</th>\n",
       "      <th>lastname</th>\n",
       "      <th>div</th>\n",
       "      <th>salary</th>\n",
       "      <th>tele</th>\n",
       "      <th>contract</th>\n",
       "    </tr>\n",
       "  </thead>\n",
       "  <tbody>\n",
       "    <tr>\n",
       "      <th>299</th>\n",
       "      <td>Eduard</td>\n",
       "      <td>Iglesias</td>\n",
       "      <td>Sales</td>\n",
       "      <td>79000</td>\n",
       "      <td>7366574</td>\n",
       "      <td>permanent</td>\n",
       "    </tr>\n",
       "  </tbody>\n",
       "</table>\n",
       "</div>"
      ],
      "text/plain": [
       "       name  lastname    div  salary     tele   contract\n",
       "299  Eduard  Iglesias  Sales   79000  7366574  permanent"
      ]
     },
     "execution_count": 59,
     "metadata": {},
     "output_type": "execute_result"
    }
   ],
   "source": [
    "df_employees[(df_employees['salary'] > 45000) & (df_employees['contract'] == 'permanent')]"
   ]
  },
  {
   "cell_type": "markdown",
   "id": "protective-campbell",
   "metadata": {},
   "source": [
    "#### As you may know, in Python, the comparison operators have a higher precedence than the logical operators. However, it does not apply to Pandas where logical operators have higher precedence than comparison operators. Therefore, we need to wrap each boolean expression in parenthesis to avoid an error."
   ]
  },
  {
   "cell_type": "markdown",
   "id": "vulnerable-block",
   "metadata": {},
   "source": [
    "#### The isin method"
   ]
  },
  {
   "cell_type": "markdown",
   "id": "precise-console",
   "metadata": {},
   "source": [
    "##### pandas.Series.isin"
   ]
  },
  {
   "cell_type": "code",
   "execution_count": 61,
   "id": "starting-rebecca",
   "metadata": {},
   "outputs": [
    {
     "data": {
      "text/html": [
       "<div>\n",
       "<style scoped>\n",
       "    .dataframe tbody tr th:only-of-type {\n",
       "        vertical-align: middle;\n",
       "    }\n",
       "\n",
       "    .dataframe tbody tr th {\n",
       "        vertical-align: top;\n",
       "    }\n",
       "\n",
       "    .dataframe thead th {\n",
       "        text-align: right;\n",
       "    }\n",
       "</style>\n",
       "<table border=\"1\" class=\"dataframe\">\n",
       "  <thead>\n",
       "    <tr style=\"text-align: right;\">\n",
       "      <th></th>\n",
       "      <th>name</th>\n",
       "      <th>lastname</th>\n",
       "      <th>div</th>\n",
       "      <th>salary</th>\n",
       "      <th>tele</th>\n",
       "      <th>contract</th>\n",
       "    </tr>\n",
       "  </thead>\n",
       "  <tbody>\n",
       "    <tr>\n",
       "      <th>128</th>\n",
       "      <td>Patrick</td>\n",
       "      <td>Miller</td>\n",
       "      <td>Sales</td>\n",
       "      <td>30000</td>\n",
       "      <td>7366578</td>\n",
       "      <td>permanent</td>\n",
       "    </tr>\n",
       "    <tr>\n",
       "      <th>478</th>\n",
       "      <td>Amanda</td>\n",
       "      <td>Torres</td>\n",
       "      <td>IT</td>\n",
       "      <td>54000</td>\n",
       "      <td>7366444</td>\n",
       "      <td>temporary</td>\n",
       "    </tr>\n",
       "    <tr>\n",
       "      <th>257</th>\n",
       "      <td>Antonella</td>\n",
       "      <td>Brown</td>\n",
       "      <td>IT</td>\n",
       "      <td>80000</td>\n",
       "      <td>7366120</td>\n",
       "      <td>temporary</td>\n",
       "    </tr>\n",
       "    <tr>\n",
       "      <th>299</th>\n",
       "      <td>Eduard</td>\n",
       "      <td>Iglesias</td>\n",
       "      <td>Sales</td>\n",
       "      <td>79000</td>\n",
       "      <td>7366574</td>\n",
       "      <td>permanent</td>\n",
       "    </tr>\n",
       "    <tr>\n",
       "      <th>099</th>\n",
       "      <td>Layton</td>\n",
       "      <td>Platt</td>\n",
       "      <td>Engineering</td>\n",
       "      <td>30000</td>\n",
       "      <td>7366777</td>\n",
       "      <td>permanent</td>\n",
       "    </tr>\n",
       "    <tr>\n",
       "      <th>457</th>\n",
       "      <td>Melanie</td>\n",
       "      <td>Cavill</td>\n",
       "      <td>Sales</td>\n",
       "      <td>35000</td>\n",
       "      <td>7366579</td>\n",
       "      <td>temporary</td>\n",
       "    </tr>\n",
       "    <tr>\n",
       "      <th>144</th>\n",
       "      <td>David</td>\n",
       "      <td>Lange</td>\n",
       "      <td>Engineering</td>\n",
       "      <td>45000</td>\n",
       "      <td>7366441</td>\n",
       "      <td>permanent</td>\n",
       "    </tr>\n",
       "    <tr>\n",
       "      <th>222</th>\n",
       "      <td>Lewis</td>\n",
       "      <td>Bellow</td>\n",
       "      <td>Sales</td>\n",
       "      <td>30500</td>\n",
       "      <td>7366440</td>\n",
       "      <td>permanent</td>\n",
       "    </tr>\n",
       "  </tbody>\n",
       "</table>\n",
       "</div>"
      ],
      "text/plain": [
       "          name  lastname          div  salary     tele   contract\n",
       "128    Patrick    Miller        Sales   30000  7366578  permanent\n",
       "478     Amanda    Torres           IT   54000  7366444  temporary\n",
       "257  Antonella     Brown           IT   80000  7366120  temporary\n",
       "299     Eduard  Iglesias        Sales   79000  7366574  permanent\n",
       "099     Layton     Platt  Engineering   30000  7366777  permanent\n",
       "457    Melanie    Cavill        Sales   35000  7366579  temporary\n",
       "144      David     Lange  Engineering   45000  7366441  permanent\n",
       "222      Lewis    Bellow        Sales   30500  7366440  permanent"
      ]
     },
     "execution_count": 61,
     "metadata": {},
     "output_type": "execute_result"
    }
   ],
   "source": [
    "# select employees with a permanent or temporary contract using the logical operaror or\n",
    "df_employees[(df_employees['contract'] == 'temporary') | (df_employees['contract'] == 'permanent')]\n",
    "\n",
    "# select employees with a permanent or temporary contract using the isin method\n",
    "df_employees[df_employees['contract'].isin(['temporary', 'permanent'])]"
   ]
  },
  {
   "cell_type": "markdown",
   "id": "medium-timer",
   "metadata": {},
   "source": [
    "#### The between method\n",
    "The pandas.Series.between method "
   ]
  },
  {
   "cell_type": "code",
   "execution_count": 64,
   "id": "systematic-mexican",
   "metadata": {},
   "outputs": [
    {
     "data": {
      "text/html": [
       "<div>\n",
       "<style scoped>\n",
       "    .dataframe tbody tr th:only-of-type {\n",
       "        vertical-align: middle;\n",
       "    }\n",
       "\n",
       "    .dataframe tbody tr th {\n",
       "        vertical-align: top;\n",
       "    }\n",
       "\n",
       "    .dataframe thead th {\n",
       "        text-align: right;\n",
       "    }\n",
       "</style>\n",
       "<table border=\"1\" class=\"dataframe\">\n",
       "  <thead>\n",
       "    <tr style=\"text-align: right;\">\n",
       "      <th></th>\n",
       "      <th>name</th>\n",
       "      <th>lastname</th>\n",
       "      <th>div</th>\n",
       "      <th>salary</th>\n",
       "      <th>tele</th>\n",
       "      <th>contract</th>\n",
       "    </tr>\n",
       "  </thead>\n",
       "  <tbody>\n",
       "    <tr>\n",
       "      <th>128</th>\n",
       "      <td>Patrick</td>\n",
       "      <td>Miller</td>\n",
       "      <td>Sales</td>\n",
       "      <td>30000</td>\n",
       "      <td>7366578</td>\n",
       "      <td>permanent</td>\n",
       "    </tr>\n",
       "    <tr>\n",
       "      <th>099</th>\n",
       "      <td>Layton</td>\n",
       "      <td>Platt</td>\n",
       "      <td>Engineering</td>\n",
       "      <td>30000</td>\n",
       "      <td>7366777</td>\n",
       "      <td>permanent</td>\n",
       "    </tr>\n",
       "    <tr>\n",
       "      <th>457</th>\n",
       "      <td>Melanie</td>\n",
       "      <td>Cavill</td>\n",
       "      <td>Sales</td>\n",
       "      <td>35000</td>\n",
       "      <td>7366579</td>\n",
       "      <td>temporary</td>\n",
       "    </tr>\n",
       "    <tr>\n",
       "      <th>144</th>\n",
       "      <td>David</td>\n",
       "      <td>Lange</td>\n",
       "      <td>Engineering</td>\n",
       "      <td>45000</td>\n",
       "      <td>7366441</td>\n",
       "      <td>permanent</td>\n",
       "    </tr>\n",
       "    <tr>\n",
       "      <th>222</th>\n",
       "      <td>Lewis</td>\n",
       "      <td>Bellow</td>\n",
       "      <td>Sales</td>\n",
       "      <td>30500</td>\n",
       "      <td>7366440</td>\n",
       "      <td>permanent</td>\n",
       "    </tr>\n",
       "  </tbody>\n",
       "</table>\n",
       "</div>"
      ],
      "text/plain": [
       "        name lastname          div  salary     tele   contract\n",
       "128  Patrick   Miller        Sales   30000  7366578  permanent\n",
       "099   Layton    Platt  Engineering   30000  7366777  permanent\n",
       "457  Melanie   Cavill        Sales   35000  7366579  temporary\n",
       "144    David    Lange  Engineering   45000  7366441  permanent\n",
       "222    Lewis   Bellow        Sales   30500  7366440  permanent"
      ]
     },
     "execution_count": 64,
     "metadata": {},
     "output_type": "execute_result"
    }
   ],
   "source": [
    "# employees with a salary higher than or equal to 30000 and less than or equal to 50000 euros\n",
    "df_employees[df_employees['salary'].between(30000, 50000)]"
   ]
  },
  {
   "cell_type": "code",
   "execution_count": 65,
   "id": "featured-occasions",
   "metadata": {},
   "outputs": [
    {
     "data": {
      "text/html": [
       "<div>\n",
       "<style scoped>\n",
       "    .dataframe tbody tr th:only-of-type {\n",
       "        vertical-align: middle;\n",
       "    }\n",
       "\n",
       "    .dataframe tbody tr th {\n",
       "        vertical-align: top;\n",
       "    }\n",
       "\n",
       "    .dataframe thead th {\n",
       "        text-align: right;\n",
       "    }\n",
       "</style>\n",
       "<table border=\"1\" class=\"dataframe\">\n",
       "  <thead>\n",
       "    <tr style=\"text-align: right;\">\n",
       "      <th></th>\n",
       "      <th>name</th>\n",
       "      <th>lastname</th>\n",
       "      <th>div</th>\n",
       "      <th>salary</th>\n",
       "      <th>tele</th>\n",
       "      <th>contract</th>\n",
       "    </tr>\n",
       "  </thead>\n",
       "  <tbody>\n",
       "    <tr>\n",
       "      <th>457</th>\n",
       "      <td>Melanie</td>\n",
       "      <td>Cavill</td>\n",
       "      <td>Sales</td>\n",
       "      <td>35000</td>\n",
       "      <td>7366579</td>\n",
       "      <td>temporary</td>\n",
       "    </tr>\n",
       "    <tr>\n",
       "      <th>144</th>\n",
       "      <td>David</td>\n",
       "      <td>Lange</td>\n",
       "      <td>Engineering</td>\n",
       "      <td>45000</td>\n",
       "      <td>7366441</td>\n",
       "      <td>permanent</td>\n",
       "    </tr>\n",
       "    <tr>\n",
       "      <th>222</th>\n",
       "      <td>Lewis</td>\n",
       "      <td>Bellow</td>\n",
       "      <td>Sales</td>\n",
       "      <td>30500</td>\n",
       "      <td>7366440</td>\n",
       "      <td>permanent</td>\n",
       "    </tr>\n",
       "  </tbody>\n",
       "</table>\n",
       "</div>"
      ],
      "text/plain": [
       "        name lastname          div  salary     tele   contract\n",
       "457  Melanie   Cavill        Sales   35000  7366579  temporary\n",
       "144    David    Lange  Engineering   45000  7366441  permanent\n",
       "222    Lewis   Bellow        Sales   30500  7366440  permanent"
      ]
     },
     "execution_count": 65,
     "metadata": {},
     "output_type": "execute_result"
    }
   ],
   "source": [
    "# employees with a salary higher than 30000 and less than 50000 euros\n",
    "df_employees[df_employees['salary'].between(30000, 50000, inclusive=False)]"
   ]
  },
  {
   "cell_type": "markdown",
   "id": "apparent-discount",
   "metadata": {},
   "source": [
    "It is same as: "
   ]
  },
  {
   "cell_type": "code",
   "execution_count": 66,
   "id": "great-treaty",
   "metadata": {},
   "outputs": [
    {
     "data": {
      "text/html": [
       "<div>\n",
       "<style scoped>\n",
       "    .dataframe tbody tr th:only-of-type {\n",
       "        vertical-align: middle;\n",
       "    }\n",
       "\n",
       "    .dataframe tbody tr th {\n",
       "        vertical-align: top;\n",
       "    }\n",
       "\n",
       "    .dataframe thead th {\n",
       "        text-align: right;\n",
       "    }\n",
       "</style>\n",
       "<table border=\"1\" class=\"dataframe\">\n",
       "  <thead>\n",
       "    <tr style=\"text-align: right;\">\n",
       "      <th></th>\n",
       "      <th>name</th>\n",
       "      <th>lastname</th>\n",
       "      <th>div</th>\n",
       "      <th>salary</th>\n",
       "      <th>tele</th>\n",
       "      <th>contract</th>\n",
       "    </tr>\n",
       "  </thead>\n",
       "  <tbody>\n",
       "    <tr>\n",
       "      <th>128</th>\n",
       "      <td>Patrick</td>\n",
       "      <td>Miller</td>\n",
       "      <td>Sales</td>\n",
       "      <td>30000</td>\n",
       "      <td>7366578</td>\n",
       "      <td>permanent</td>\n",
       "    </tr>\n",
       "    <tr>\n",
       "      <th>478</th>\n",
       "      <td>Amanda</td>\n",
       "      <td>Torres</td>\n",
       "      <td>IT</td>\n",
       "      <td>54000</td>\n",
       "      <td>7366444</td>\n",
       "      <td>temporary</td>\n",
       "    </tr>\n",
       "    <tr>\n",
       "      <th>257</th>\n",
       "      <td>Antonella</td>\n",
       "      <td>Brown</td>\n",
       "      <td>IT</td>\n",
       "      <td>80000</td>\n",
       "      <td>7366120</td>\n",
       "      <td>temporary</td>\n",
       "    </tr>\n",
       "    <tr>\n",
       "      <th>299</th>\n",
       "      <td>Eduard</td>\n",
       "      <td>Iglesias</td>\n",
       "      <td>Sales</td>\n",
       "      <td>79000</td>\n",
       "      <td>7366574</td>\n",
       "      <td>permanent</td>\n",
       "    </tr>\n",
       "    <tr>\n",
       "      <th>099</th>\n",
       "      <td>Layton</td>\n",
       "      <td>Platt</td>\n",
       "      <td>Engineering</td>\n",
       "      <td>30000</td>\n",
       "      <td>7366777</td>\n",
       "      <td>permanent</td>\n",
       "    </tr>\n",
       "    <tr>\n",
       "      <th>457</th>\n",
       "      <td>Melanie</td>\n",
       "      <td>Cavill</td>\n",
       "      <td>Sales</td>\n",
       "      <td>35000</td>\n",
       "      <td>7366579</td>\n",
       "      <td>temporary</td>\n",
       "    </tr>\n",
       "    <tr>\n",
       "      <th>144</th>\n",
       "      <td>David</td>\n",
       "      <td>Lange</td>\n",
       "      <td>Engineering</td>\n",
       "      <td>45000</td>\n",
       "      <td>7366441</td>\n",
       "      <td>permanent</td>\n",
       "    </tr>\n",
       "    <tr>\n",
       "      <th>222</th>\n",
       "      <td>Lewis</td>\n",
       "      <td>Bellow</td>\n",
       "      <td>Sales</td>\n",
       "      <td>30500</td>\n",
       "      <td>7366440</td>\n",
       "      <td>permanent</td>\n",
       "    </tr>\n",
       "  </tbody>\n",
       "</table>\n",
       "</div>"
      ],
      "text/plain": [
       "          name  lastname          div  salary     tele   contract\n",
       "128    Patrick    Miller        Sales   30000  7366578  permanent\n",
       "478     Amanda    Torres           IT   54000  7366444  temporary\n",
       "257  Antonella     Brown           IT   80000  7366120  temporary\n",
       "299     Eduard  Iglesias        Sales   79000  7366574  permanent\n",
       "099     Layton     Platt  Engineering   30000  7366777  permanent\n",
       "457    Melanie    Cavill        Sales   35000  7366579  temporary\n",
       "144      David     Lange  Engineering   45000  7366441  permanent\n",
       "222      Lewis    Bellow        Sales   30500  7366440  permanent"
      ]
     },
     "execution_count": 66,
     "metadata": {},
     "output_type": "execute_result"
    }
   ],
   "source": [
    "# employees with a salary higher than or equal to 30000 and less than or equal to 50000 euros\n",
    "df_employees[(df_employees['salary']>=30000) & (df_employees['salary']<=50000)]"
   ]
  },
  {
   "cell_type": "markdown",
   "id": "entire-boutique",
   "metadata": {},
   "source": [
    "#### String methods: Series.str.contains"
   ]
  },
  {
   "cell_type": "markdown",
   "id": "still-meeting",
   "metadata": {},
   "source": [
    "pandas.Series.str.contains method checks for the presence of a substring in all the elements of a column a"
   ]
  },
  {
   "cell_type": "code",
   "execution_count": 70,
   "id": "southern-pillow",
   "metadata": {},
   "outputs": [
    {
     "data": {
      "text/html": [
       "<div>\n",
       "<style scoped>\n",
       "    .dataframe tbody tr th:only-of-type {\n",
       "        vertical-align: middle;\n",
       "    }\n",
       "\n",
       "    .dataframe tbody tr th {\n",
       "        vertical-align: top;\n",
       "    }\n",
       "\n",
       "    .dataframe thead th {\n",
       "        text-align: right;\n",
       "    }\n",
       "</style>\n",
       "<table border=\"1\" class=\"dataframe\">\n",
       "  <thead>\n",
       "    <tr style=\"text-align: right;\">\n",
       "      <th></th>\n",
       "      <th>name</th>\n",
       "      <th>lastname</th>\n",
       "      <th>div</th>\n",
       "      <th>salary</th>\n",
       "      <th>tele</th>\n",
       "      <th>contract</th>\n",
       "    </tr>\n",
       "  </thead>\n",
       "  <tbody>\n",
       "    <tr>\n",
       "      <th>128</th>\n",
       "      <td>Patrick</td>\n",
       "      <td>Miller</td>\n",
       "      <td>Sales</td>\n",
       "      <td>30000</td>\n",
       "      <td>7366578</td>\n",
       "      <td>permanent</td>\n",
       "    </tr>\n",
       "    <tr>\n",
       "      <th>299</th>\n",
       "      <td>Eduard</td>\n",
       "      <td>Iglesias</td>\n",
       "      <td>Sales</td>\n",
       "      <td>79000</td>\n",
       "      <td>7366574</td>\n",
       "      <td>permanent</td>\n",
       "    </tr>\n",
       "    <tr>\n",
       "      <th>457</th>\n",
       "      <td>Melanie</td>\n",
       "      <td>Cavill</td>\n",
       "      <td>Sales</td>\n",
       "      <td>35000</td>\n",
       "      <td>7366579</td>\n",
       "      <td>temporary</td>\n",
       "    </tr>\n",
       "  </tbody>\n",
       "</table>\n",
       "</div>"
      ],
      "text/plain": [
       "        name  lastname    div  salary     tele   contract\n",
       "128  Patrick    Miller  Sales   30000  7366578  permanent\n",
       "299   Eduard  Iglesias  Sales   79000  7366574  permanent\n",
       "457  Melanie    Cavill  Sales   35000  7366579  temporary"
      ]
     },
     "execution_count": 70,
     "metadata": {},
     "output_type": "execute_result"
    }
   ],
   "source": [
    "df_employees[df_employees['tele'].str.contains('57')]"
   ]
  },
  {
   "cell_type": "code",
   "execution_count": 71,
   "id": "acquired-spine",
   "metadata": {},
   "outputs": [
    {
     "data": {
      "text/html": [
       "<div>\n",
       "<style scoped>\n",
       "    .dataframe tbody tr th:only-of-type {\n",
       "        vertical-align: middle;\n",
       "    }\n",
       "\n",
       "    .dataframe tbody tr th {\n",
       "        vertical-align: top;\n",
       "    }\n",
       "\n",
       "    .dataframe thead th {\n",
       "        text-align: right;\n",
       "    }\n",
       "</style>\n",
       "<table border=\"1\" class=\"dataframe\">\n",
       "  <thead>\n",
       "    <tr style=\"text-align: right;\">\n",
       "      <th></th>\n",
       "      <th>name</th>\n",
       "      <th>lastname</th>\n",
       "      <th>div</th>\n",
       "      <th>salary</th>\n",
       "      <th>tele</th>\n",
       "      <th>contract</th>\n",
       "    </tr>\n",
       "  </thead>\n",
       "  <tbody>\n",
       "    <tr>\n",
       "      <th>128</th>\n",
       "      <td>Patrick</td>\n",
       "      <td>Miller</td>\n",
       "      <td>Sales</td>\n",
       "      <td>30000</td>\n",
       "      <td>7366578</td>\n",
       "      <td>permanent</td>\n",
       "    </tr>\n",
       "    <tr>\n",
       "      <th>299</th>\n",
       "      <td>Eduard</td>\n",
       "      <td>Iglesias</td>\n",
       "      <td>Sales</td>\n",
       "      <td>79000</td>\n",
       "      <td>7366574</td>\n",
       "      <td>permanent</td>\n",
       "    </tr>\n",
       "    <tr>\n",
       "      <th>328</th>\n",
       "      <td>Alejandra</td>\n",
       "      <td>Campos</td>\n",
       "      <td>Engineering</td>\n",
       "      <td>18000</td>\n",
       "      <td>7366117</td>\n",
       "      <td>internship</td>\n",
       "    </tr>\n",
       "  </tbody>\n",
       "</table>\n",
       "</div>"
      ],
      "text/plain": [
       "          name  lastname          div  salary     tele    contract\n",
       "128    Patrick    Miller        Sales   30000  7366578   permanent\n",
       "299     Eduard  Iglesias        Sales   79000  7366574   permanent\n",
       "328  Alejandra    Campos  Engineering   18000  7366117  internship"
      ]
     },
     "execution_count": 71,
     "metadata": {},
     "output_type": "execute_result"
    }
   ],
   "source": [
    "df_employees[df_employees['name'].str.contains('r')]"
   ]
  },
  {
   "cell_type": "code",
   "execution_count": 72,
   "id": "blank-economics",
   "metadata": {},
   "outputs": [
    {
     "data": {
      "text/html": [
       "<div>\n",
       "<style scoped>\n",
       "    .dataframe tbody tr th:only-of-type {\n",
       "        vertical-align: middle;\n",
       "    }\n",
       "\n",
       "    .dataframe tbody tr th {\n",
       "        vertical-align: top;\n",
       "    }\n",
       "\n",
       "    .dataframe thead th {\n",
       "        text-align: right;\n",
       "    }\n",
       "</style>\n",
       "<table border=\"1\" class=\"dataframe\">\n",
       "  <thead>\n",
       "    <tr style=\"text-align: right;\">\n",
       "      <th></th>\n",
       "      <th>name</th>\n",
       "      <th>lastname</th>\n",
       "      <th>div</th>\n",
       "      <th>salary</th>\n",
       "      <th>tele</th>\n",
       "      <th>contract</th>\n",
       "    </tr>\n",
       "  </thead>\n",
       "  <tbody>\n",
       "    <tr>\n",
       "      <th>478</th>\n",
       "      <td>Amanda</td>\n",
       "      <td>Torres</td>\n",
       "      <td>IT</td>\n",
       "      <td>54000</td>\n",
       "      <td>7366444</td>\n",
       "      <td>temporary</td>\n",
       "    </tr>\n",
       "    <tr>\n",
       "      <th>257</th>\n",
       "      <td>Antonella</td>\n",
       "      <td>Brown</td>\n",
       "      <td>IT</td>\n",
       "      <td>80000</td>\n",
       "      <td>7366120</td>\n",
       "      <td>temporary</td>\n",
       "    </tr>\n",
       "    <tr>\n",
       "      <th>328</th>\n",
       "      <td>Alejandra</td>\n",
       "      <td>Campos</td>\n",
       "      <td>Engineering</td>\n",
       "      <td>18000</td>\n",
       "      <td>7366117</td>\n",
       "      <td>internship</td>\n",
       "    </tr>\n",
       "  </tbody>\n",
       "</table>\n",
       "</div>"
      ],
      "text/plain": [
       "          name lastname          div  salary     tele    contract\n",
       "478     Amanda   Torres           IT   54000  7366444   temporary\n",
       "257  Antonella    Brown           IT   80000  7366120   temporary\n",
       "328  Alejandra   Campos  Engineering   18000  7366117  internship"
      ]
     },
     "execution_count": 72,
     "metadata": {},
     "output_type": "execute_result"
    }
   ],
   "source": [
    "df_employees[df_employees['name'].str.startswith('A')]"
   ]
  },
  {
   "cell_type": "code",
   "execution_count": 75,
   "id": "accompanied-silly",
   "metadata": {},
   "outputs": [
    {
     "data": {
      "text/html": [
       "<div>\n",
       "<style scoped>\n",
       "    .dataframe tbody tr th:only-of-type {\n",
       "        vertical-align: middle;\n",
       "    }\n",
       "\n",
       "    .dataframe tbody tr th {\n",
       "        vertical-align: top;\n",
       "    }\n",
       "\n",
       "    .dataframe thead th {\n",
       "        text-align: right;\n",
       "    }\n",
       "</style>\n",
       "<table border=\"1\" class=\"dataframe\">\n",
       "  <thead>\n",
       "    <tr style=\"text-align: right;\">\n",
       "      <th></th>\n",
       "      <th>name</th>\n",
       "      <th>lastname</th>\n",
       "      <th>div</th>\n",
       "      <th>salary</th>\n",
       "      <th>tele</th>\n",
       "      <th>contract</th>\n",
       "    </tr>\n",
       "  </thead>\n",
       "  <tbody>\n",
       "    <tr>\n",
       "      <th>478</th>\n",
       "      <td>Amanda</td>\n",
       "      <td>Torres</td>\n",
       "      <td>IT</td>\n",
       "      <td>54000</td>\n",
       "      <td>7366444</td>\n",
       "      <td>temporary</td>\n",
       "    </tr>\n",
       "    <tr>\n",
       "      <th>257</th>\n",
       "      <td>Antonella</td>\n",
       "      <td>Brown</td>\n",
       "      <td>IT</td>\n",
       "      <td>80000</td>\n",
       "      <td>7366120</td>\n",
       "      <td>temporary</td>\n",
       "    </tr>\n",
       "    <tr>\n",
       "      <th>328</th>\n",
       "      <td>Alejandra</td>\n",
       "      <td>Campos</td>\n",
       "      <td>Engineering</td>\n",
       "      <td>18000</td>\n",
       "      <td>7366117</td>\n",
       "      <td>internship</td>\n",
       "    </tr>\n",
       "  </tbody>\n",
       "</table>\n",
       "</div>"
      ],
      "text/plain": [
       "          name lastname          div  salary     tele    contract\n",
       "478     Amanda   Torres           IT   54000  7366444   temporary\n",
       "257  Antonella    Brown           IT   80000  7366120   temporary\n",
       "328  Alejandra   Campos  Engineering   18000  7366117  internship"
      ]
     },
     "execution_count": 75,
     "metadata": {},
     "output_type": "execute_result"
    }
   ],
   "source": [
    "df_employees[df_employees['name'].str.endswith('a')]"
   ]
  },
  {
   "cell_type": "code",
   "execution_count": null,
   "id": "uniform-feeling",
   "metadata": {},
   "outputs": [],
   "source": []
  }
 ],
 "metadata": {
  "kernelspec": {
   "display_name": "Python 3",
   "language": "python",
   "name": "python3"
  },
  "language_info": {
   "codemirror_mode": {
    "name": "ipython",
    "version": 3
   },
   "file_extension": ".py",
   "mimetype": "text/x-python",
   "name": "python",
   "nbconvert_exporter": "python",
   "pygments_lexer": "ipython3",
   "version": "3.9.1"
  }
 },
 "nbformat": 4,
 "nbformat_minor": 5
}
